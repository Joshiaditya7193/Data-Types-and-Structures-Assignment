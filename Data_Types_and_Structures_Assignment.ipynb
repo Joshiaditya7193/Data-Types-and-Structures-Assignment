{
  "nbformat": 4,
  "nbformat_minor": 0,
  "metadata": {
    "colab": {
      "provenance": []
    },
    "kernelspec": {
      "name": "python3",
      "display_name": "Python 3"
    },
    "language_info": {
      "name": "python"
    }
  },
  "cells": [
    {
      "cell_type": "markdown",
      "source": [
        "Question 1. What are data structures, and why are they important?\n",
        "- Way of organizing and storing data is data structure. Idea of data is to access and manipulate it easily, as data is of no use if it is not manipulated effectively.\n",
        "\n",
        "Question 2. Explain the difference between mutable and immutable data types with examples.\n",
        "- Mutable data are the data that can be accessed and manipulated after storing it. For example, a list is Mutable data type.\n",
        "Immutable data are the data that once stored, are fixed. For example, Adhar card number, PAN card number. They are fixed for a fixed person. Tuples are of immutable data type.\n",
        "\n",
        "Question 3. What are the main differences between lists and tuples in Python?\n",
        "- List is mutable whereas tuples are immutable data type.\n",
        "\n",
        "Question 4. Describe how dictionaries store data.\n",
        "- Discionaries store data in key-value pairs. They are unordered collection and defined using curly bracket '{}'. They are immutable.\n",
        "\n",
        "Question 5. Why might you use a set instead of a list in Python?\n",
        "- Sets are unordered collections of unique elements. Written in curly brackets “{}”. Repeated elements shall be ignored (removed) and executed only single values. There is no order while executing. Elements can be added or removed in sets. That means sets are mutable. That is why sometimes Set are used insetead of Lists. Sets are used to get unique elements. To check how many unique elements are in the set.\n",
        "\n",
        "Question 6. What is a string in Python, and how is it different from a list?\n",
        "- String is a collection of unchangeable characters. Unlike list, strings are immutable.\n",
        "\n",
        "Question 7. How do tuples ensure data integrity in Python?\n",
        "- Tuples are immutable. Hence, once created, the data from tuple can not be changed.\n",
        "\n",
        "Question 8. What is a hash table, and how does it relate to dictionaries in Python?\n",
        "- It is a data type that store data by key-valuepairs. Each key is unique and its position is determined by hash dunction.\n",
        "\n",
        "Question 9. Can lists contain different data types in Python?\n",
        "- Yes, list can store anything. Technically anything. It can store heterogeneous data, for eg, int, str, float and so on. It is an ordered collection of elements that can be of any data types.\n",
        "\n",
        "Question 10.  Explain why strings are immutable in Python?\n",
        "- To secure the data such as passwords, strings need to be immutable. Once written, the strings are fixed.\n",
        "\n",
        "Question 11. What advantages do dictionaries offer over lists for certain tasks?\n",
        "- They are immutable, but can be converted to lists if we required to access and manipulate dictionaries.\n",
        "\n",
        "Question 12. Describe a scenario where using a tuple would be preferable over a list.\n",
        "- Once we create a tuple, it is immutable data type and hence, when we require our data to be constant throughout, then we prefer tuple over list.\n",
        "\n",
        "Question 13. How do sets handle duplicate values in Python?\n",
        "- It will ignore duplicate values as duplicates are not allowed in sets.\n",
        "\n",
        "Queston 14. How does the “in” keyword work differently for lists and dictionaries?\n",
        "- 'in' in list checks whether a specific value is present in the list or not.\n",
        "'in' in dictionaries checks whether the vlaue exists in the discionary as a key or not.\n",
        "\n",
        "Question 15. Can you modify the elements of a tuple? Explain why or why not?\n",
        "- We can access the data from the tuple by indexing or slicing. But we can not modify the data as Tuple are immutable. Attempting to modify will throw an error.\n",
        "\n",
        "Question 16. What is a nested dictionary, and give an example of its use case?\n",
        "- Dictionaries containing other dictionaries as values forms a nested dictionary. These can be accessed and modified just like any other dictionary.\n",
        "\n",
        "Question 17. Describe the time complexity of accessing elements in a dictionary.\n",
        "- -\n",
        "\n",
        "Question 18.  In what situations are lists preferred over dictionaries?\n",
        "- Lists are prefered when we frequently want to manipulate our data, add or remove.\n",
        "\n",
        "Question 19. Why are dictionaries considered unordered, and how does that affect data retrieval?\n",
        "- Dictionaries retrieve data based on key-value pairs, i.e., only when the key is known. They are considered unordered because they are arranged in random order.\n",
        "\n",
        "Question 20.  Explain the difference between a list and a dictionary in terms of data retrieval.\n",
        "- Lists use index to retrieve data in it. While dictionaries use keys to do the same."
      ],
      "metadata": {
        "id": "26U9nrekLRdE"
      }
    },
    {
      "cell_type": "code",
      "source": [
        "#Question 1. Write a code to create a string with your name and print it.\n",
        "Name = \"Aditya\"\n",
        "print(Name)"
      ],
      "metadata": {
        "colab": {
          "base_uri": "https://localhost:8080/"
        },
        "id": "9QfDlgU-vZ46",
        "outputId": "004ae290-39b3-4ca7-f15d-6fdd70d77492"
      },
      "execution_count": 1,
      "outputs": [
        {
          "output_type": "stream",
          "name": "stdout",
          "text": [
            "Aditya\n"
          ]
        }
      ]
    },
    {
      "cell_type": "code",
      "source": [
        "#Question 2. Write a code to find the length of the string \"Hello World\".\n",
        "a = \"Hello World\"\n",
        "len(a)"
      ],
      "metadata": {
        "colab": {
          "base_uri": "https://localhost:8080/"
        },
        "id": "Ye_7cyelvq78",
        "outputId": "425b179d-14d9-490b-9095-8c51a016ca2e"
      },
      "execution_count": 2,
      "outputs": [
        {
          "output_type": "execute_result",
          "data": {
            "text/plain": [
              "11"
            ]
          },
          "metadata": {},
          "execution_count": 2
        }
      ]
    },
    {
      "cell_type": "code",
      "source": [
        "#Question 3. Write a code to slice the first 3 characters from the string \"Python Programming\".\n",
        "a= \"Python Programming\"\n",
        "print(a[0:3])"
      ],
      "metadata": {
        "colab": {
          "base_uri": "https://localhost:8080/"
        },
        "id": "JIEdLl15v1cM",
        "outputId": "7a7db339-59a8-4fdc-db3d-ce1b4517e446"
      },
      "execution_count": 8,
      "outputs": [
        {
          "output_type": "stream",
          "name": "stdout",
          "text": [
            "Pyt\n"
          ]
        }
      ]
    },
    {
      "cell_type": "code",
      "source": [
        "#Question 4. Write a code to convert the string \"hello\" to uppercase.\n",
        "a= \"hello\"\n",
        "print(a.upper())"
      ],
      "metadata": {
        "colab": {
          "base_uri": "https://localhost:8080/"
        },
        "id": "HQ55T_GhwawP",
        "outputId": "8230bead-9896-48b0-d524-573c9270e562"
      },
      "execution_count": 10,
      "outputs": [
        {
          "output_type": "stream",
          "name": "stdout",
          "text": [
            "HELLO\n"
          ]
        }
      ]
    },
    {
      "cell_type": "code",
      "source": [
        "#Question 5. Write a code to replace the word \"apple\" with \"orange\" in the string \"I like apple\".\n",
        "a= \"I like apple\"\n",
        "print(a.replace(\"apple\", \"orange.\"))"
      ],
      "metadata": {
        "colab": {
          "base_uri": "https://localhost:8080/"
        },
        "id": "yRQvSbyMwylY",
        "outputId": "dd765c4f-5539-4378-eee9-17d0f4887f08"
      },
      "execution_count": 13,
      "outputs": [
        {
          "output_type": "stream",
          "name": "stdout",
          "text": [
            "I like orange.\n"
          ]
        }
      ]
    },
    {
      "cell_type": "code",
      "source": [
        "#Question 6. Write a code to create a list with numbers 1 to 5 and print it.\n",
        "L= range(1, 6)\n",
        "print(list(L))"
      ],
      "metadata": {
        "colab": {
          "base_uri": "https://localhost:8080/"
        },
        "id": "4TuQ4FK4xKpK",
        "outputId": "ab521d78-9338-4bb0-b16e-b8c702f90648"
      },
      "execution_count": 16,
      "outputs": [
        {
          "output_type": "stream",
          "name": "stdout",
          "text": [
            "[1, 2, 3, 4, 5]\n"
          ]
        }
      ]
    },
    {
      "cell_type": "code",
      "source": [
        "#Question 7. Write a code to append the number 10 to the list [1, 2, 3, 4].\n",
        "New_list = [1, 2, 3, 4]\n",
        "print(list(New_list))\n",
        "New_list.append(10)\n",
        "print(list(New_list))"
      ],
      "metadata": {
        "colab": {
          "base_uri": "https://localhost:8080/"
        },
        "id": "4rko3cf2x-mn",
        "outputId": "868f1389-52ac-4aae-a686-6ba27adba59a"
      },
      "execution_count": 22,
      "outputs": [
        {
          "output_type": "stream",
          "name": "stdout",
          "text": [
            "[1, 2, 3, 4]\n",
            "[1, 2, 3, 4, 10]\n"
          ]
        }
      ]
    },
    {
      "cell_type": "code",
      "source": [
        "#Question 8. Write a code to remove the number 3 from the list [1, 2, 3, 4, 5].\n",
        "Remove_function = [1, 2, 3, 4, 5]\n",
        "print(list(Remove_function))\n",
        "Remove_function.remove(3)\n",
        "print(list(Remove_function))"
      ],
      "metadata": {
        "colab": {
          "base_uri": "https://localhost:8080/"
        },
        "id": "XuKIYBmCzWIs",
        "outputId": "d213b1a2-8c47-4d9d-ed37-5a538f8ced3c"
      },
      "execution_count": 24,
      "outputs": [
        {
          "output_type": "stream",
          "name": "stdout",
          "text": [
            "[1, 2, 3, 4, 5]\n",
            "[1, 2, 4, 5]\n"
          ]
        }
      ]
    },
    {
      "cell_type": "code",
      "source": [
        "#Question 9. Write a code to access the second element in the list ['a', 'b', 'c', 'd'].\n",
        "Access_list = ['a', 'b', 'c', 'd']\n",
        "print(list(Access_list))\n",
        "print(Access_list[2])"
      ],
      "metadata": {
        "colab": {
          "base_uri": "https://localhost:8080/"
        },
        "id": "bkzRb5zPzvH_",
        "outputId": "2787c43f-3389-42a3-940d-d7ff368299a7"
      },
      "execution_count": 27,
      "outputs": [
        {
          "output_type": "stream",
          "name": "stdout",
          "text": [
            "['a', 'b', 'c', 'd']\n",
            "c\n"
          ]
        }
      ]
    },
    {
      "cell_type": "code",
      "source": [
        "#Question 10. Write a code to reverse the list [10, 20, 30, 40, 50].\n",
        "Reverse_list= [10, 20, 30, 40, 50]\n",
        "print(list(Reverse_list))\n",
        "Reverse_list.reverse()\n",
        "print(list(Reverse_list))"
      ],
      "metadata": {
        "colab": {
          "base_uri": "https://localhost:8080/"
        },
        "id": "FVBKr8tP0eOP",
        "outputId": "baf3edf5-acf3-433a-b4b6-3e863ac14683"
      },
      "execution_count": 29,
      "outputs": [
        {
          "output_type": "stream",
          "name": "stdout",
          "text": [
            "[10, 20, 30, 40, 50]\n",
            "[50, 40, 30, 20, 10]\n"
          ]
        }
      ]
    },
    {
      "cell_type": "code",
      "source": [
        "#Question 11. Write a code to create a tuple with the elements 100, 200, 300 and print it.\n",
        "Question11= (100, 200, 300)\n",
        "print(tuple(Question11))"
      ],
      "metadata": {
        "colab": {
          "base_uri": "https://localhost:8080/"
        },
        "id": "g5gQ5LNr0s-m",
        "outputId": "673b1c37-1fff-46a6-f01e-d95bdfc301d2"
      },
      "execution_count": 33,
      "outputs": [
        {
          "output_type": "stream",
          "name": "stdout",
          "text": [
            "(100, 200, 300)\n"
          ]
        }
      ]
    },
    {
      "cell_type": "code",
      "source": [
        "#Question 12. Write a code to access the second-to-last element of the tuple ('red', 'green', 'blue', 'yellow').\n",
        "Question12= ('red', 'green', 'blue', 'yellow')\n",
        "print(tuple(Question12))\n",
        "print(Question12[-2])"
      ],
      "metadata": {
        "colab": {
          "base_uri": "https://localhost:8080/"
        },
        "id": "MZzjgJSZ1WBm",
        "outputId": "c0bf02f4-b4cf-49e0-8779-618f0984468a"
      },
      "execution_count": 35,
      "outputs": [
        {
          "output_type": "stream",
          "name": "stdout",
          "text": [
            "('red', 'green', 'blue', 'yellow')\n",
            "blue\n"
          ]
        }
      ]
    },
    {
      "cell_type": "code",
      "source": [
        "#Question 13. Write a code to find the minimum number in the tuple (10, 20, 5, 15).\n",
        "Question13= (10, 20, 5, 15)\n",
        "print(tuple(Question13))\n",
        "print(min(Question13))"
      ],
      "metadata": {
        "colab": {
          "base_uri": "https://localhost:8080/"
        },
        "id": "UYesaBYp1uIV",
        "outputId": "151e2e43-ed86-4901-a676-6782a584f24f"
      },
      "execution_count": 36,
      "outputs": [
        {
          "output_type": "stream",
          "name": "stdout",
          "text": [
            "(10, 20, 5, 15)\n",
            "5\n"
          ]
        }
      ]
    },
    {
      "cell_type": "code",
      "source": [
        "#Question 14.  Write a code to find the index of the element \"cat\" in the tuple ('dog', 'cat', 'rabbit').\n",
        "Index_Tuple= ('dog', 'cat', 'rabbit')\n",
        "print(tuple(Index_Tuple))\n",
        "print(Index_Tuple.index('cat'))"
      ],
      "metadata": {
        "colab": {
          "base_uri": "https://localhost:8080/"
        },
        "id": "ye_kL8xn14Vm",
        "outputId": "c8b344fc-77df-4257-aded-32c04a665a51"
      },
      "execution_count": 39,
      "outputs": [
        {
          "output_type": "stream",
          "name": "stdout",
          "text": [
            "('dog', 'cat', 'rabbit')\n",
            "1\n"
          ]
        }
      ]
    },
    {
      "cell_type": "code",
      "source": [
        "#Question 15. Write a code to create a tuple containing three different fruits and check if \"kiwi\" is in it.\n",
        "Fruits= ('apple', 'guava', 'banana')\n",
        "print(tuple(Fruits))\n",
        "print('kiwi' in Fruits)\n",
        "Fruits2= ('apple', 'kiwi', 'guava')\n",
        "print(tuple(Fruits2))\n",
        "print('kiwi' in Fruits2)"
      ],
      "metadata": {
        "colab": {
          "base_uri": "https://localhost:8080/"
        },
        "id": "1aJoFGmA2Lw9",
        "outputId": "7336c7e0-e5b2-40fe-ce73-ef05b2edec02"
      },
      "execution_count": 43,
      "outputs": [
        {
          "output_type": "stream",
          "name": "stdout",
          "text": [
            "('apple', 'guava', 'banana')\n",
            "False\n",
            "('apple', 'kiwi', 'guava')\n",
            "True\n"
          ]
        }
      ]
    },
    {
      "cell_type": "code",
      "source": [
        "#Question 16.  Write a code to create a set with the elements 'a', 'b', 'c' and print it.\n",
        "Question16= {'a', 'b', 'c'}\n",
        "print(set(Question16))"
      ],
      "metadata": {
        "colab": {
          "base_uri": "https://localhost:8080/"
        },
        "id": "uX_F8xFZ3EQS",
        "outputId": "2e36aae4-1959-43f3-bd1f-eb562f23c92e"
      },
      "execution_count": 44,
      "outputs": [
        {
          "output_type": "stream",
          "name": "stdout",
          "text": [
            "{'c', 'a', 'b'}\n"
          ]
        }
      ]
    },
    {
      "cell_type": "code",
      "source": [
        "#Question 17.  Write a code to clear all elements from the set {1, 2, 3, 4, 5}.\n",
        "Question_17 = {1, 2, 3, 4, 5}\n",
        "print(set(Question_17))\n",
        "Question_17.clear()\n",
        "print(Question_17)"
      ],
      "metadata": {
        "colab": {
          "base_uri": "https://localhost:8080/"
        },
        "id": "gguyVWYT3crD",
        "outputId": "405749a6-26ba-4ceb-f00e-58f8dfc65593"
      },
      "execution_count": 48,
      "outputs": [
        {
          "output_type": "stream",
          "name": "stdout",
          "text": [
            "{1, 2, 3, 4, 5}\n",
            "set()\n"
          ]
        }
      ]
    },
    {
      "cell_type": "code",
      "source": [
        "#Question 18. Write a code to remove the element 4 from the set {1, 2, 3, 4}.\n",
        "Question_18 = {1, 2, 3, 4}\n",
        "print(set(Question_18))\n",
        "Question_18.remove(4)\n",
        "print(Question_18)"
      ],
      "metadata": {
        "colab": {
          "base_uri": "https://localhost:8080/"
        },
        "id": "_T3-m97P4AhU",
        "outputId": "8fb6550e-879b-4bc2-e6a9-dce0206a1ad6"
      },
      "execution_count": 49,
      "outputs": [
        {
          "output_type": "stream",
          "name": "stdout",
          "text": [
            "{1, 2, 3, 4}\n",
            "{1, 2, 3}\n"
          ]
        }
      ]
    },
    {
      "cell_type": "code",
      "source": [
        "#Question 19. Write a code to find the union of two sets {1, 2, 3} and {3, 4, 5}.\n",
        "Union_set1= {1, 2, 3}\n",
        "print(set(Union_set1))\n",
        "Union_set2= {3, 4, 5}\n",
        "print(set(Union_set2))\n",
        "print(Union_set1.union(Union_set2))\n",
        "#3 will be entered only once as set ignores duplicates."
      ],
      "metadata": {
        "colab": {
          "base_uri": "https://localhost:8080/"
        },
        "id": "9Q3qvDLT412P",
        "outputId": "b434fd66-8545-4d35-9b8f-686c634a635a"
      },
      "execution_count": 56,
      "outputs": [
        {
          "output_type": "stream",
          "name": "stdout",
          "text": [
            "{1, 2, 3}\n",
            "{3, 4, 5}\n",
            "{1, 2, 3, 4, 5}\n"
          ]
        }
      ]
    },
    {
      "cell_type": "code",
      "source": [
        "#Question 20.  Write a code to find the intersection of two sets {1, 2, 3} and {2, 3, 4}.\n",
        "Question20_1= {1, 2, 3}\n",
        "print(set(Question20_1))\n",
        "Question20_2= {2, 3, 4}\n",
        "print(set(Question20_2))\n",
        "print(Question20_1.intersection(Question20_2))"
      ],
      "metadata": {
        "colab": {
          "base_uri": "https://localhost:8080/"
        },
        "id": "WKIHPYfT5vR1",
        "outputId": "b32bf190-9f57-4d67-f085-ac1bcf8dfe4f"
      },
      "execution_count": 59,
      "outputs": [
        {
          "output_type": "stream",
          "name": "stdout",
          "text": [
            "{1, 2, 3}\n",
            "{2, 3, 4}\n",
            "{2, 3}\n"
          ]
        }
      ]
    },
    {
      "cell_type": "code",
      "source": [
        "#Question 21. Write a code to create a dictionary with the keys \"name\", \"age\", and \"city\", and print it.\n",
        "Question21= {\"name\", \"age\", \"city\"}\n",
        "print(Question21)"
      ],
      "metadata": {
        "colab": {
          "base_uri": "https://localhost:8080/"
        },
        "id": "7GSOkJ9J7y2b",
        "outputId": "c0711251-68a5-4be8-a1db-8024a7eb3505"
      },
      "execution_count": 67,
      "outputs": [
        {
          "output_type": "stream",
          "name": "stdout",
          "text": [
            "{'age', 'name', 'city'}\n"
          ]
        }
      ]
    },
    {
      "cell_type": "code",
      "source": [
        "#Question 22.  Write a code to add a new key-value pair \"country\": \"USA\" to the dictionary {'name': 'John', 'age': 25}.\n",
        "John_info= {'name': 'John', 'age': 25}\n",
        "print(John_info)\n",
        "John_info['country']=\"USA\"\n",
        "print(John_info)"
      ],
      "metadata": {
        "colab": {
          "base_uri": "https://localhost:8080/"
        },
        "id": "0rSd0jYZ8xUM",
        "outputId": "72cc2937-ecd5-4334-d209-740c1917cf50"
      },
      "execution_count": 69,
      "outputs": [
        {
          "output_type": "stream",
          "name": "stdout",
          "text": [
            "{'name': 'John', 'age': 25}\n",
            "{'name': 'John', 'age': 25, 'country': 'USA'}\n"
          ]
        }
      ]
    },
    {
      "cell_type": "code",
      "source": [
        "#Question 23.  Write a code to access the value associated with the key \"name\" in the dictionary {'name': 'Alice', 'age': 30}.\n",
        "Question23= {'name': 'Alice', 'age': 30}\n",
        "print(Question23)\n",
        "print(Question23['name'])"
      ],
      "metadata": {
        "colab": {
          "base_uri": "https://localhost:8080/"
        },
        "id": "3PtCodNZ9S5e",
        "outputId": "5b38a251-fbe2-4c10-c2c7-b6541ef8eb26"
      },
      "execution_count": 70,
      "outputs": [
        {
          "output_type": "stream",
          "name": "stdout",
          "text": [
            "{'name': 'Alice', 'age': 30}\n",
            "Alice\n"
          ]
        }
      ]
    },
    {
      "cell_type": "code",
      "source": [
        "#Question 24. Write a code to remove the key \"age\" from the dictionary {'name': 'Bob', 'age': 22, 'city': 'New York'}.\n",
        "Bob_info = {'name': 'Bob', 'age': 22, 'city': 'New York'}\n",
        "print(Bob_info)\n",
        "Bob_info.pop('age')\n",
        "print(Bob_info)"
      ],
      "metadata": {
        "colab": {
          "base_uri": "https://localhost:8080/"
        },
        "id": "P0P9qZNj9phD",
        "outputId": "38bb82c5-362f-4182-87a3-a0e5637bd905"
      },
      "execution_count": 72,
      "outputs": [
        {
          "output_type": "stream",
          "name": "stdout",
          "text": [
            "{'name': 'Bob', 'age': 22, 'city': 'New York'}\n",
            "{'name': 'Bob', 'city': 'New York'}\n"
          ]
        }
      ]
    },
    {
      "cell_type": "code",
      "source": [
        "#Question 25. Write a code to check if the key \"city\" exists in the dictionary {'name': 'Alice', 'city': 'Paris'}.\n",
        "Alice_info = {'name': 'Alice', 'city': 'Paris'}\n",
        "print(Alice_info)\n",
        "print('city' in Alice_info)"
      ],
      "metadata": {
        "colab": {
          "base_uri": "https://localhost:8080/"
        },
        "id": "R0hxuzsU98sR",
        "outputId": "62b44467-451c-4c8d-bfba-180d9521aa2f"
      },
      "execution_count": 73,
      "outputs": [
        {
          "output_type": "stream",
          "name": "stdout",
          "text": [
            "{'name': 'Alice', 'city': 'Paris'}\n",
            "True\n"
          ]
        }
      ]
    },
    {
      "cell_type": "code",
      "source": [
        "#Question 26. Write a code to create a list, a tuple, and a dictionary, and print them all.\n",
        "Question26_list= [1, 2, 3, 4, 5]\n",
        "print(Question26_list)\n",
        "Question26_tuple= (1, 2, 3, 4, 5)\n",
        "print(Question26_tuple)\n",
        "Question26_dict= {1, 2, 3, 4, 5}\n",
        "print(Question26_dict)"
      ],
      "metadata": {
        "colab": {
          "base_uri": "https://localhost:8080/"
        },
        "id": "aJ8RtaWF-MA2",
        "outputId": "5631a883-1a39-43e4-a78a-f8bec26669ab"
      },
      "execution_count": 79,
      "outputs": [
        {
          "output_type": "stream",
          "name": "stdout",
          "text": [
            "[1, 2, 3, 4, 5]\n",
            "(1, 2, 3, 4, 5)\n",
            "{1, 2, 3, 4, 5}\n"
          ]
        }
      ]
    },
    {
      "cell_type": "code",
      "source": [
        "#Question 27. Write a code to create a list of 5 random numbers between 1 and 100, sort it in ascending order, and print the result.(replaced)\n",
        "RandomQ27= [2, 1, 20, 51, 3]\n",
        "print(RandomQ27)\n",
        "RandomQ27.sort()\n",
        "print(RandomQ27)"
      ],
      "metadata": {
        "colab": {
          "base_uri": "https://localhost:8080/"
        },
        "id": "9SXeiVBq-lmc",
        "outputId": "c30ac42c-0e81-4c59-b45a-f04fdbb8157d"
      },
      "execution_count": 82,
      "outputs": [
        {
          "output_type": "stream",
          "name": "stdout",
          "text": [
            "[2, 1, 20, 51, 3]\n",
            "[1, 2, 3, 20, 51]\n"
          ]
        }
      ]
    },
    {
      "cell_type": "code",
      "source": [
        "#Question 28. Write a code to create a list with strings and print the element at the third index.\n",
        "Question28= ['Aditya', 'b', 'd', 'p']\n",
        "print(Question28)\n",
        "print(Question28[3])"
      ],
      "metadata": {
        "colab": {
          "base_uri": "https://localhost:8080/"
        },
        "id": "5nUo3F7V--h5",
        "outputId": "68f62405-b26a-4b21-c42d-1e46746b363d"
      },
      "execution_count": 83,
      "outputs": [
        {
          "output_type": "stream",
          "name": "stdout",
          "text": [
            "['Aditya', 'b', 'd', 'p']\n",
            "p\n"
          ]
        }
      ]
    },
    {
      "cell_type": "code",
      "source": [
        "#Question 29.  Write a code to combine two dictionaries into one and print the result.\n",
        "Dictionary_1 = {1, 2, 3, 4}\n",
        "print(Dictionary_1)\n",
        "Dictionary_2 = {5, 6, 7, 8}\n",
        "print(Dictionary_2)\n",
        "print(Dictionary_1.union(Dictionary_2))"
      ],
      "metadata": {
        "colab": {
          "base_uri": "https://localhost:8080/"
        },
        "id": "9Cv9iNa3_nrT",
        "outputId": "73d9d326-f74f-4c18-c713-f4a33970718b"
      },
      "execution_count": 86,
      "outputs": [
        {
          "output_type": "stream",
          "name": "stdout",
          "text": [
            "{1, 2, 3, 4}\n",
            "{8, 5, 6, 7}\n",
            "{1, 2, 3, 4, 5, 6, 7, 8}\n"
          ]
        }
      ]
    },
    {
      "cell_type": "code",
      "source": [
        "#Question 30. Write a code to convert a list of strings into a set.\n",
        "Question30 = ['apple', 'banana', 'guava', 'mango']\n",
        "print(Question30)\n",
        "Question30 = set(Question30)\n",
        "print(Question30)"
      ],
      "metadata": {
        "colab": {
          "base_uri": "https://localhost:8080/"
        },
        "id": "cQVuzH2x_-WX",
        "outputId": "5f748695-4dca-4bbb-d762-25384de06bf4"
      },
      "execution_count": 88,
      "outputs": [
        {
          "output_type": "stream",
          "name": "stdout",
          "text": [
            "['apple', 'banana', 'guava', 'mango']\n",
            "{'banana', 'mango', 'apple', 'guava'}\n"
          ]
        }
      ]
    }
  ]
}